{
 "cells": [
  {
   "cell_type": "code",
   "execution_count": null,
   "metadata": {},
   "outputs": [],
   "source": [
    "import smbus\t\t\t#import SMBus module of I2C\n",
    "from time import sleep          #import\n",
    "\n",
    "#some MPU6050 Registers and their Address\n",
    "PWR_MGMT_1   = 0x6B\n",
    "SMPLRT_DIV   = 0x19\n",
    "CONFIG       = 0x1A\n",
    "GYRO_CONFIG  = 0x1B\n",
    "INT_ENABLE   = 0x38\n",
    "ACCEL_XOUT_H = 0x3B\n",
    "ACCEL_YOUT_H = 0x3D\n",
    "ACCEL_ZOUT_H = 0x3F\n",
    "GYRO_XOUT_H  = 0x43\n",
    "GYRO_YOUT_H  = 0x45\n",
    "GYRO_ZOUT_H  = 0x47\n",
    "\n",
    "\n",
    "def MPU_Init():\n",
    "\t#write to sample rate register\n",
    "\tbus.write_byte_data(Device_Address, SMPLRT_DIV, 7)\n",
    "\t\n",
    "\t#Write to power management register\n",
    "\tbus.write_byte_data(Device_Address, PWR_MGMT_1, 1)\n",
    "\t\n",
    "\t#Write to Configuration register\n",
    "\tbus.write_byte_data(Device_Address, CONFIG, 0)\n",
    "\n",
    "\t#Write to Gyro configuration register\n",
    "\tbus.write_byte_data(Device_Address, GYRO_CONFIG, 24)\n",
    "\t\n",
    "\t#Write to interrupt enable register\n",
    "\tbus.write_byte_data(Device_Address, INT_ENABLE, 1)\n",
    "\n",
    "def read_raw_data(addr):\n",
    "\t#Accelero and Gyro value are 16-bit\n",
    "        high = bus.read_byte_data(Device_Address, addr)\n",
    "        low = bus.read_byte_data(Device_Address, addr+1)\n",
    "    \n",
    "        #concatenate higher and lower value\n",
    "        value = ((high << 8) | low)\n",
    "        \n",
    "        #to get signed value from mpu6050\n",
    "        if(value > 32768):\n",
    "                value = value - 65536\n",
    "        return value\n",
    "\n",
    "\n",
    "bus = smbus.SMBus(1) \t# or bus = smbus.SMBus(0) for older version boards\n",
    "Device_Address = 0x68   # MPU6050 device address\n",
    "\n",
    "MPU_Init()\n",
    "\n",
    "print (\" Reading Data of Gyroscope and Accelerometer\")\n",
    "\n",
    "while True:\n",
    "\t\n",
    "\t#Read Accelerometer raw value\n",
    "\tacc_x = read_raw_data(ACCEL_XOUT_H)\n",
    "\tacc_y = read_raw_data(ACCEL_YOUT_H)\n",
    "\tacc_z = read_raw_data(ACCEL_ZOUT_H)\n",
    "\t\n",
    "\t#Read Gyroscope raw value\n",
    "\tgyro_x = read_raw_data(GYRO_XOUT_H)\n",
    "\tgyro_y = read_raw_data(GYRO_YOUT_H)\n",
    "\tgyro_z = read_raw_data(GYRO_ZOUT_H)\n",
    "\t\n",
    "\t#Full scale range +/- 250 degree/C as per sensitivity scale factor\n",
    "\tAx = acc_x/16384.0\n",
    "\tAy = acc_y/16384.0\n",
    "\tAz = acc_z/16384.0\n",
    "\t\n",
    "\tGx = gyro_x/131.0\n",
    "\tGy = gyro_y/131.0\n",
    "\tGz = gyro_z/131.0\n",
    "\t\n",
    "\n",
    "\tprint (\"Gx=%.2f\" %Gx, u'\\u00b0'+ \"/s\", \"\\tGy=%.2f\" %Gy, u'\\u00b0'+ \"/s\", \"\\tGz=%.2f\" %Gz, u'\\u00b0'+ \"/s\", \"\\tAx=%.2f g\" %Ax, \"\\tAy=%.2f g\" %Ay, \"\\tAz=%.2f g\" %Az) \t\n",
    "\tsleep(1)"
   ]
  },
  {
   "cell_type": "code",
   "execution_count": 1,
   "metadata": {},
   "outputs": [
    {
     "data": {
      "text/plain": [
       "68"
      ]
     },
     "execution_count": 1,
     "metadata": {},
     "output_type": "execute_result"
    }
   ],
   "source": [
    "0x43+1"
   ]
  },
  {
   "cell_type": "code",
   "execution_count": null,
   "metadata": {},
   "outputs": [],
   "source": [
    "using PiGPIO\n",
    "\n",
    "p = Pi()\n",
    "\n",
    "PWR_MGMT_1   = 0x6B\n",
    "SMPLRT_DIV   = 0x19\n",
    "CONFIG       = 0x1A\n",
    "GYRO_CONFIG  = 0x1B\n",
    "INT_ENABLE   = 0x38\n",
    "ACCEL_XOUT_H = 0x3B\n",
    "ACCEL_YOUT_H = 0x3D\n",
    "ACCEL_ZOUT_H = 0x3F\n",
    "GYRO_XOUT_H  = 0x43\n",
    "GYRO_YOUT_H  = 0x45\n",
    "GYRO_ZOUT_H  = 0x47\n",
    "\n",
    "function MPU_Init()\n",
    "    PiGPIO.i2c_write_byte(p, )"
   ]
  },
  {
   "cell_type": "code",
   "execution_count": 1,
   "metadata": {},
   "outputs": [
    {
     "name": "stderr",
     "output_type": "stream",
     "text": [
      "┌ Info: Recompiling stale cache file /home/pi/.julia/compiled/v1.0/PiGPIO/8aGxa.ji for PiGPIO [bb151fc1-c6dc-5496-8ed6-07f94907e623]\n",
      "└ @ Base loading.jl:1190\n"
     ]
    }
   ],
   "source": [
    "using PiGPIO"
   ]
  },
  {
   "cell_type": "code",
   "execution_count": 2,
   "metadata": {
    "scrolled": false
   },
   "outputs": [
    {
     "name": "stderr",
     "output_type": "stream",
     "text": [
      "┌ Info: Successfully connected!\n",
      "└ @ PiGPIO /home/pi/.julia/packages/PiGPIO/e5h1O/src/pi.jl:1309\n"
     ]
    },
    {
     "data": {
      "text/plain": [
       "Pi(\"localhost\", 8888, true, PiGPIO.SockLock(Sockets.TCPSocket(RawFD(0x0000002a) open, 0 bytes waiting), ReentrantLock(nothing, Condition(Any[]), 0)), PiGPIO.CallbackThread(PiGPIO.SockLock(Sockets.TCPSocket(RawFD(0x0000002a) open, 0 bytes waiting), ReentrantLock(nothing, Condition(Any[]), 0)), PiGPIO.SockLock(Sockets.TCPSocket(RawFD(0x00000032) paused, 0 bytes waiting), ReentrantLock(nothing, Condition(Any[]), 0)), true, true, 0, 0x00000000, Any[]))"
      ]
     },
     "execution_count": 2,
     "metadata": {},
     "output_type": "execute_result"
    }
   ],
   "source": [
    "p = Pi()"
   ]
  },
  {
   "cell_type": "code",
   "execution_count": 34,
   "metadata": {},
   "outputs": [
    {
     "ename": "UndefVarError",
     "evalue": "UndefVarError: pack not defined",
     "output_type": "error",
     "traceback": [
      "UndefVarError: pack not defined",
      "",
      "Stacktrace:",
      " [1] i2c_open(::Pi, ::Int32, ::UInt8, ::Int32) at /home/pi/.julia/packages/PiGPIO/e5h1O/src/i2c.jl:44",
      " [2] top-level scope at In[34]:1"
     ]
    }
   ],
   "source": [
    "PiGPIO.i2c_open(p, 1, 0x68, 0)"
   ]
  },
  {
   "cell_type": "code",
   "execution_count": 28,
   "metadata": {},
   "outputs": [
    {
     "ename": "MethodError",
     "evalue": "MethodError: no method matching _pigpio_command_ext(::PiGPIO.SockLock, ::Int32, ::Int32, ::UInt8, ::Int32)\nClosest candidates are:\n  _pigpio_command_ext(::Any, ::Any, ::Any, ::Any, ::Any, !Matched::Any) at /home/pi/.julia/packages/PiGPIO/e5h1O/src/pi.jl:124\n  _pigpio_command_ext(::Any, ::Any, ::Any, ::Any, ::Any, !Matched::Any, !Matched::Any) at /home/pi/.julia/packages/PiGPIO/e5h1O/src/pi.jl:124",
     "output_type": "error",
     "traceback": [
      "MethodError: no method matching _pigpio_command_ext(::PiGPIO.SockLock, ::Int32, ::Int32, ::UInt8, ::Int32)\nClosest candidates are:\n  _pigpio_command_ext(::Any, ::Any, ::Any, ::Any, ::Any, !Matched::Any) at /home/pi/.julia/packages/PiGPIO/e5h1O/src/pi.jl:124\n  _pigpio_command_ext(::Any, ::Any, ::Any, ::Any, ::Any, !Matched::Any, !Matched::Any) at /home/pi/.julia/packages/PiGPIO/e5h1O/src/pi.jl:124",
      "",
      "Stacktrace:",
      " [1] i2c_open(::Pi, ::Int32, ::UInt8, ::Int32) at ./In[12]:2",
      " [2] top-level scope at In[28]:1"
     ]
    }
   ],
   "source": [
    "h = i2c_open(p, 1, 0x68, 0)"
   ]
  },
  {
   "cell_type": "code",
   "execution_count": 6,
   "metadata": {},
   "outputs": [
    {
     "data": {
      "text/plain": [
       "0x47"
      ]
     },
     "execution_count": 6,
     "metadata": {},
     "output_type": "execute_result"
    }
   ],
   "source": [
    "PWR_MGMT_1   = 0x6B\n",
    "SMPLRT_DIV   = 0x19\n",
    "CONFIG       = 0x1A\n",
    "GYRO_CONFIG  = 0x1B\n",
    "INT_ENABLE   = 0x38\n",
    "ACCEL_XOUT_H = 0x3B\n",
    "ACCEL_YOUT_H = 0x3D\n",
    "ACCEL_ZOUT_H = 0x3F\n",
    "GYRO_XOUT_H  = 0x43\n",
    "GYRO_YOUT_H  = 0x45\n",
    "GYRO_ZOUT_H  = 0x47"
   ]
  },
  {
   "cell_type": "code",
   "execution_count": 15,
   "metadata": {},
   "outputs": [
    {
     "data": {
      "text/plain": [
       "i2c_write_byte (generic function with 1 method)"
      ]
     },
     "execution_count": 15,
     "metadata": {},
     "output_type": "execute_result"
    }
   ],
   "source": [
    "function i2c_write_byte(p, handle, byte_val)\n",
    "    return PiGPIO._u2i(PiGPIO._pigpio_command(p.sl, PiGPIO._PI_CMD_I2CWS, handle, byte_val))\n",
    "end"
   ]
  },
  {
   "cell_type": "code",
   "execution_count": 61,
   "metadata": {},
   "outputs": [
    {
     "ename": "InexactError",
     "evalue": "InexactError: check_top_bit(UInt32, 4294967271)",
     "output_type": "error",
     "traceback": [
      "InexactError: check_top_bit(UInt32, 4294967271)",
      "",
      "Stacktrace:",
      " [1] throw_inexacterror(::Symbol, ::Any, ::UInt32) at ./boot.jl:567",
      " [2] check_top_bit at ./boot.jl:581 [inlined]",
      " [3] toInt32 at ./boot.jl:630 [inlined]",
      " [4] Type at ./boot.jl:716 [inlined]",
      " [5] convert at ./number.jl:7 [inlined]",
      " [6] _u2i(::UInt32) at /home/pi/.julia/packages/PiGPIO/e5h1O/src/pi.jl:72",
      " [7] i2c_write_byte(::Pi, ::Int32, ::Int32) at /home/pi/.julia/packages/PiGPIO/e5h1O/src/i2c.jl:99",
      " [8] top-level scope at In[61]:1"
     ]
    }
   ],
   "source": [
    "PiGPIO.i2c_write_byte(p, 7, 19)"
   ]
  },
  {
   "cell_type": "code",
   "execution_count": 43,
   "metadata": {
    "scrolled": true
   },
   "outputs": [
    {
     "ename": "ArgumentError",
     "evalue": "ArgumentError: Package i2c not found in current path:\n- Run `import Pkg; Pkg.add(\"i2c\")` to install the i2c package.\n",
     "output_type": "error",
     "traceback": [
      "ArgumentError: Package i2c not found in current path:\n- Run `import Pkg; Pkg.add(\"i2c\")` to install the i2c package.\n",
      "",
      "Stacktrace:",
      " [1] require(::Module, ::Symbol) at ./loading.jl:823",
      " [2] top-level scope at In[43]:3"
     ]
    }
   ],
   "source": [
    "import PiGPIO\n",
    "using PiGPIO\n",
    "h = PiGPIO.i2c_open(p, 1, 0x53)"
   ]
  },
  {
   "cell_type": "code",
   "execution_count": 37,
   "metadata": {
    "scrolled": false
   },
   "outputs": [
    {
     "ename": "InexactError",
     "evalue": "InexactError: check_top_bit(UInt32, 4294967271)",
     "output_type": "error",
     "traceback": [
      "InexactError: check_top_bit(UInt32, 4294967271)",
      "",
      "Stacktrace:",
      " [1] throw_inexacterror(::Symbol, ::Any, ::UInt32) at ./boot.jl:567",
      " [2] check_top_bit at ./boot.jl:581 [inlined]",
      " [3] toInt32 at ./boot.jl:630 [inlined]",
      " [4] Type at ./boot.jl:716 [inlined]",
      " [5] convert at ./number.jl:7 [inlined]",
      " [6] _u2i(::UInt32) at /home/pi/.julia/packages/PiGPIO/e5h1O/src/pi.jl:72",
      " [7] i2c_write_byte(::Pi, ::Int32, ::UInt8) at /home/pi/.julia/packages/PiGPIO/e5h1O/src/i2c.jl:99",
      " [8] top-level scope at In[37]:1"
     ]
    }
   ],
   "source": [
    "I2C.i2c_write_byte(p, 2, 0x19)"
   ]
  },
  {
   "cell_type": "code",
   "execution_count": 55,
   "metadata": {},
   "outputs": [
    {
     "data": {
      "text/plain": [
       "0"
      ]
     },
     "execution_count": 55,
     "metadata": {},
     "output_type": "execute_result"
    }
   ],
   "source": [
    "set_mode(p, 2, PiGPIO.INPUT)"
   ]
  },
  {
   "cell_type": "code",
   "execution_count": 51,
   "metadata": {},
   "outputs": [
    {
     "data": {
      "text/plain": [
       "MPU (generic function with 2 methods)"
      ]
     },
     "execution_count": 51,
     "metadata": {},
     "output_type": "execute_result"
    }
   ],
   "source": [
    "function MPU(p, handle, byte)\n",
    "    return PiGPIO.i2c_write_byte(p, handle, byte)\n",
    "end"
   ]
  },
  {
   "cell_type": "code",
   "execution_count": 53,
   "metadata": {},
   "outputs": [
    {
     "ename": "BoundsError",
     "evalue": "BoundsError: attempt to access 2-element Array{Any,1} at index [0]",
     "output_type": "error",
     "traceback": [
      "BoundsError: attempt to access 2-element Array{Any,1} at index [0]",
      "",
      "Stacktrace:",
      " [1] getindex(::Array{Any,1}, ::Int32) at ./array.jl:731",
      " [2] error_text(::Int32) at /home/pi/.julia/packages/PiGPIO/PZABK/src/pi.jl:39",
      " [3] _u2i(::UInt32) at /home/pi/.julia/packages/PiGPIO/PZABK/src/pi.jl:75",
      " [4] i2c_write_byte(::Pi, ::Int32, ::Int32) at /home/pi/.julia/packages/PiGPIO/PZABK/src/i2c.jl:99",
      " [5] MPU(::Pi, ::Int32, ::Int32) at ./In[51]:2",
      " [6] top-level scope at In[53]:1"
     ]
    }
   ],
   "source": [
    "MPU(p, 2, 19)"
   ]
  },
  {
   "cell_type": "code",
   "execution_count": 50,
   "metadata": {},
   "outputs": [
    {
     "data": {
      "text/plain": [
       "0x68"
      ]
     },
     "execution_count": 50,
     "metadata": {},
     "output_type": "execute_result"
    }
   ],
   "source": [
    "Device_Address = 0x68\n",
    "SMPLRT_DIV = 19"
   ]
  },
  {
   "cell_type": "code",
   "execution_count": 51,
   "metadata": {},
   "outputs": [
    {
     "ename": "InexactError",
     "evalue": "InexactError: check_top_bit(UInt32, 4294967271)",
     "output_type": "error",
     "traceback": [
      "InexactError: check_top_bit(UInt32, 4294967271)",
      "",
      "Stacktrace:",
      " [1] throw_inexacterror(::Symbol, ::Any, ::UInt32) at ./boot.jl:567",
      " [2] check_top_bit at ./boot.jl:581 [inlined]",
      " [3] toInt32 at ./boot.jl:630 [inlined]",
      " [4] Type at ./boot.jl:716 [inlined]",
      " [5] convert at ./number.jl:7 [inlined]",
      " [6] _u2i(::UInt32) at /home/pi/.julia/packages/PiGPIO/e5h1O/src/pi.jl:72",
      " [7] i2c_write_byte(::Pi, ::Int32, ::UInt8) at /home/pi/.julia/packages/PiGPIO/e5h1O/src/i2c.jl:99",
      " [8] top-level scope at In[51]:1"
     ]
    }
   ],
   "source": [
    "PiGPIO.i2c_write_byte(p, 2, 0x19)"
   ]
  },
  {
   "cell_type": "code",
   "execution_count": 74,
   "metadata": {},
   "outputs": [
    {
     "ename": "LoadError",
     "evalue": "UndefVarError: @py_str not defined",
     "output_type": "error",
     "traceback": [
      "UndefVarError: @py_str not defined",
      ""
     ]
    }
   ],
   "source": [
    "py\"\"\"exec(open(\"Sensor.py\").read())\"\"\""
   ]
  },
  {
   "cell_type": "code",
   "execution_count": 2,
   "metadata": {},
   "outputs": [],
   "source": [
    "using Pkg"
   ]
  },
  {
   "cell_type": "code",
   "execution_count": 2,
   "metadata": {},
   "outputs": [
    {
     "name": "stdout",
     "output_type": "stream",
     "text": [
      "\u001b[32m\u001b[1m  Updating\u001b[22m\u001b[39m `~/.julia/environments/v1.0/Project.toml`\n",
      " \u001b[90m [bb151fc1]\u001b[39m\u001b[91m - PiGPIO v0.1.0 #master (https://github.com/JuliaBerry/PiGPIO.jl)\u001b[39m\n",
      "\u001b[32m\u001b[1m  Updating\u001b[22m\u001b[39m `~/.julia/environments/v1.0/Manifest.toml`\n",
      " \u001b[90m [bb151fc1]\u001b[39m\u001b[91m - PiGPIO v0.1.0 #master (https://github.com/JuliaBerry/PiGPIO.jl)\u001b[39m\n"
     ]
    }
   ],
   "source": [
    "Pkg.rm(\"PiGPIO\")"
   ]
  },
  {
   "cell_type": "code",
   "execution_count": 5,
   "metadata": {
    "scrolled": false
   },
   "outputs": [
    {
     "name": "stdout",
     "output_type": "stream",
     "text": [
      "\u001b[32m\u001b[1m   Cloning\u001b[22m\u001b[39m git-repo `https://github.com/JuliaBerry/JuliaBerry.jl`\n",
      "\u001b[2K\u001b[?25h[1mFetching:\u001b[22m\u001b[39m [========================================>]  100.0 %.0 %\u001b[32m\u001b[1m  Updating\u001b[22m\u001b[39m git-repo `https://github.com/JuliaBerry/JuliaBerry.jl`\n",
      "\u001b[?25l\u001b[2K\u001b[?25h\u001b[32m\u001b[1m Resolving\u001b[22m\u001b[39m package versions...\n",
      "\u001b[32m\u001b[1m  Updating\u001b[22m\u001b[39m `~/.julia/environments/v1.0/Project.toml`\n",
      " \u001b[90m [c0b9960a]\u001b[39m\u001b[93m ~ JuliaBerry v0.1.0 ⇒ v0.1.0 #master (https://github.com/JuliaBerry/JuliaBerry.jl)\u001b[39m\n",
      "\u001b[32m\u001b[1m  Updating\u001b[22m\u001b[39m `~/.julia/environments/v1.0/Manifest.toml`\n",
      " \u001b[90m [c0b9960a]\u001b[39m\u001b[93m ~ JuliaBerry v0.1.0 ⇒ v0.1.0 #master (https://github.com/JuliaBerry/JuliaBerry.jl)\u001b[39m\n"
     ]
    }
   ],
   "source": [
    "Pkg.add(PackageSpec(url=\"https://github.com/JuliaBerry/JuliaBerry.jl\"))"
   ]
  },
  {
   "cell_type": "code",
   "execution_count": 41,
   "metadata": {},
   "outputs": [
    {
     "name": "stderr",
     "output_type": "stream",
     "text": [
      "┌ Info: Precompiling JuliaBerry [c0b9960a-c887-5387-b23a-5cf61873b836]\n",
      "└ @ Base loading.jl:1192\n",
      "┌ Info: Successfully connected!\n",
      "└ @ PiGPIO /home/pi/.julia/packages/PiGPIO/zdssl/src/pi.jl:1309\n",
      "┌ Info: Successfully connected!\n",
      "└ @ PiGPIO /home/pi/.julia/packages/PiGPIO/zdssl/src/pi.jl:1309\n"
     ]
    }
   ],
   "source": [
    "using JuliaBerry"
   ]
  },
  {
   "cell_type": "code",
   "execution_count": 2,
   "metadata": {},
   "outputs": [
    {
     "name": "stderr",
     "output_type": "stream",
     "text": [
      "┌ Info: Precompiling JuliaBerry [c0b9960a-c887-5387-b23a-5cf61873b836]\n",
      "└ @ Base loading.jl:1192\n",
      "┌ Info: Successfully connected!\n",
      "└ @ PiGPIO /home/pi/.julia/packages/PiGPIO/zdssl/src/pi.jl:1309\n",
      "┌ Info: Successfully connected!\n",
      "└ @ PiGPIO /home/pi/.julia/packages/PiGPIO/zdssl/src/pi.jl:1309\n"
     ]
    }
   ],
   "source": [
    "using JuliaBerry.PiGPIO"
   ]
  },
  {
   "cell_type": "code",
   "execution_count": 28,
   "metadata": {},
   "outputs": [],
   "source": [
    "using PiGPIO"
   ]
  },
  {
   "cell_type": "code",
   "execution_count": 3,
   "metadata": {
    "scrolled": true
   },
   "outputs": [
    {
     "name": "stderr",
     "output_type": "stream",
     "text": [
      "┌ Info: Successfully connected!\n",
      "└ @ PiGPIO /home/pi/.julia/packages/PiGPIO/zdssl/src/pi.jl:1309\n"
     ]
    },
    {
     "data": {
      "text/plain": [
       "Pi(\"localhost\", 8888, true, PiGPIO.SockLock(Sockets.TCPSocket(RawFD(0x00000035) open, 0 bytes waiting), ReentrantLock(nothing, Condition(Any[]), 0)), PiGPIO.CallbackThread(PiGPIO.SockLock(Sockets.TCPSocket(RawFD(0x00000035) open, 0 bytes waiting), ReentrantLock(nothing, Condition(Any[]), 0)), PiGPIO.SockLock(Sockets.TCPSocket(RawFD(0x00000036) paused, 0 bytes waiting), ReentrantLock(nothing, Condition(Any[]), 0)), true, true, 0, 0x00000002, Any[]))"
      ]
     },
     "execution_count": 3,
     "metadata": {},
     "output_type": "execute_result"
    }
   ],
   "source": [
    "p = Pi()"
   ]
  },
  {
   "cell_type": "code",
   "execution_count": 44,
   "metadata": {},
   "outputs": [
    {
     "data": {
      "text/plain": [
       "i2c_write_byte (generic function with 1 method)"
      ]
     },
     "execution_count": 44,
     "metadata": {},
     "output_type": "execute_result"
    }
   ],
   "source": [
    "function i2c_write_byte(p::Pi, handle, byte_val)\n",
    "    return PiGPIO._pigpio_command(p.sl, PiGPIO._PI_CMD_I2CWS, handle, byte_val)\n",
    "end"
   ]
  },
  {
   "cell_type": "code",
   "execution_count": 15,
   "metadata": {
    "scrolled": false
   },
   "outputs": [
    {
     "data": {
      "text/plain": [
       "0xffffffe7"
      ]
     },
     "execution_count": 15,
     "metadata": {},
     "output_type": "execute_result"
    }
   ],
   "source": [
    "i2c_write_byte(p, 1, 0x19)"
   ]
  },
  {
   "cell_type": "code",
   "execution_count": 44,
   "metadata": {},
   "outputs": [
    {
     "data": {
      "text/plain": [
       "IOBuffer(data=UInt8[...], readable=true, writable=true, seekable=true, append=false, size=0, maxsize=Inf, ptr=1, mark=-1)"
      ]
     },
     "execution_count": 44,
     "metadata": {},
     "output_type": "execute_result"
    }
   ],
   "source": [
    "io = IOBuffer()"
   ]
  },
  {
   "cell_type": "code",
   "execution_count": 8,
   "metadata": {},
   "outputs": [
    {
     "data": {
      "text/plain": [
       "i2c_write_byte_data (generic function with 1 method)"
      ]
     },
     "execution_count": 8,
     "metadata": {},
     "output_type": "execute_result"
    }
   ],
   "source": [
    "function i2c_write_byte_data(p::Pi, handle,reg, byte_val)\n",
    "    extents = IOBuffer()\n",
    "    write(extents, byte_val)\n",
    "    return PiGPIO._pigpio_command_ext(p.sl, PiGPIO._PI_CMD_I2CWB, handle, reg, 4, extents)\n",
    "end"
   ]
  },
  {
   "cell_type": "code",
   "execution_count": 9,
   "metadata": {
    "scrolled": false
   },
   "outputs": [
    {
     "ename": "MethodError",
     "evalue": "MethodError: no method matching iterate(::Base.GenericIOBuffer{Array{UInt8,1}})\nClosest candidates are:\n  iterate(!Matched::Core.SimpleVector) at essentials.jl:589\n  iterate(!Matched::Core.SimpleVector, !Matched::Any) at essentials.jl:589\n  iterate(!Matched::ExponentialBackOff) at error.jl:171\n  ...",
     "output_type": "error",
     "traceback": [
      "MethodError: no method matching iterate(::Base.GenericIOBuffer{Array{UInt8,1}})\nClosest candidates are:\n  iterate(!Matched::Core.SimpleVector) at essentials.jl:589\n  iterate(!Matched::Core.SimpleVector, !Matched::Any) at essentials.jl:589\n  iterate(!Matched::ExponentialBackOff) at error.jl:171\n  ...",
      "",
      "Stacktrace:",
      " [1] _pigpio_command_ext(::PiGPIO.SockLock, ::Int32, ::Int32, ::Int32, ::Int32, ::Base.GenericIOBuffer{Array{UInt8,1}}, ::Bool) at /home/pi/.julia/packages/PiGPIO/zdssl/src/pi.jl:126",
      " [2] _pigpio_command_ext(::PiGPIO.SockLock, ::Int32, ::Int32, ::Int32, ::Int32, ::Base.GenericIOBuffer{Array{UInt8,1}}) at /home/pi/.julia/packages/PiGPIO/zdssl/src/pi.jl:124",
      " [3] i2c_write_byte_data(::Pi, ::Int32, ::Int32, ::UInt8) at ./In[8]:4",
      " [4] top-level scope at In[9]:1"
     ]
    }
   ],
   "source": [
    "i2c_write_byte_data(p, 1, 7, 0x19)"
   ]
  },
  {
   "cell_type": "code",
   "execution_count": 45,
   "metadata": {},
   "outputs": [
    {
     "data": {
      "text/plain": [
       "0x47"
      ]
     },
     "execution_count": 45,
     "metadata": {},
     "output_type": "execute_result"
    }
   ],
   "source": [
    "PWR_MGMT_1   = 0x6B\n",
    "SMPLRT_DIV   = 0x19\n",
    "CONFIG       = 0x1A\n",
    "GYRO_CONFIG  = 0x1B\n",
    "INT_ENABLE   = 0x38\n",
    "ACCEL_XOUT_H = 0x3B\n",
    "ACCEL_YOUT_H = 0x3D\n",
    "ACCEL_ZOUT_H = 0x3F\n",
    "GYRO_XOUT_H  = 0x43\n",
    "GYRO_YOUT_H  = 0x45\n",
    "GYRO_ZOUT_H  = 0x47"
   ]
  },
  {
   "cell_type": "code",
   "execution_count": 46,
   "metadata": {},
   "outputs": [
    {
     "data": {
      "text/plain": [
       "0"
      ]
     },
     "execution_count": 46,
     "metadata": {},
     "output_type": "execute_result"
    }
   ],
   "source": [
    "PiGPIO.set_mode(p, 2, PiGPIO.OUTPUT)"
   ]
  },
  {
   "cell_type": "code",
   "execution_count": 47,
   "metadata": {},
   "outputs": [
    {
     "data": {
      "text/plain": [
       "MPU (generic function with 1 method)"
      ]
     },
     "execution_count": 47,
     "metadata": {},
     "output_type": "execute_result"
    }
   ],
   "source": [
    "function MPU()\n",
    "    i2c_write_byte(p, SMPLRT_DIV, 7)\n",
    "    i2c_write_byte(p, PWR_MGMT_1, 1)\n",
    "    i2c_write_byte(p, GYRO_CONFIG, 24)\n",
    "    i2c_write_byte(p, INT_ENABLE, 1)\n",
    "end"
   ]
  },
  {
   "cell_type": "code",
   "execution_count": 54,
   "metadata": {},
   "outputs": [
    {
     "data": {
      "text/plain": [
       "i2c_read_byte (generic function with 1 method)"
      ]
     },
     "execution_count": 54,
     "metadata": {},
     "output_type": "execute_result"
    }
   ],
   "source": [
    "function i2c_read_byte(p::Pi, handle)\n",
    "    return PiGPIO._pigpio_command(p.sl, PiGPIO._PI_CMD_I2CRS, handle, 0)\n",
    "end"
   ]
  },
  {
   "cell_type": "code",
   "execution_count": 55,
   "metadata": {},
   "outputs": [
    {
     "data": {
      "text/plain": [
       "read_raw_data (generic function with 1 method)"
      ]
     },
     "execution_count": 55,
     "metadata": {},
     "output_type": "execute_result"
    }
   ],
   "source": [
    "function read_raw_data(addr)\n",
    "    high = i2c_read_byte(p, addr)\n",
    "    low = i2c_read_byte(p, addr+1)\n",
    "    \n",
    "    value = ((high << 8) | low)\n",
    "    \n",
    "    if value > 32768\n",
    "        value = value - 65536\n",
    "    else\n",
    "        return value = value\n",
    "    end\n",
    "end"
   ]
  },
  {
   "cell_type": "code",
   "execution_count": 56,
   "metadata": {},
   "outputs": [
    {
     "data": {
      "text/plain": [
       "0xffffffe7"
      ]
     },
     "execution_count": 56,
     "metadata": {},
     "output_type": "execute_result"
    }
   ],
   "source": [
    "MPU()"
   ]
  },
  {
   "cell_type": "code",
   "execution_count": null,
   "metadata": {},
   "outputs": [],
   "source": [
    "while true\n",
    "    acc_x = read_raw_data(ACCEL_XOUT_H)\n",
    "    acc_y = read_raw_data(ACCEL_YOUT_H)\n",
    "    acc_z = read_raw_data(ACCEL_ZOUT_H)\n",
    "    \n",
    "    gyro_x = read_raw_data(GYRO_XOUT_H)\n",
    "    gyro_y = read_raw_data(GYRO_YOUT_H)\n",
    "    gyro_z = read_raw_data(GYRO_ZOUT_H)\n",
    "    \n",
    "    Ax = acc_x/16384.0\n",
    "    Ay = acc_y/16384.0\n",
    "    Az = acc_z/16384.0\n",
    "    \n",
    "    Gx = gyro_x/131.0\n",
    "    Gy = gyro_y/131.0\n",
    "    Gz = gyro_z/131.0\n",
    "    \n",
    "    println(\"Ax= \", round(0.2*Ax, digits=2))\n",
    "    sleep(5)\n",
    "end"
   ]
  },
  {
   "cell_type": "code",
   "execution_count": null,
   "metadata": {},
   "outputs": [],
   "source": [
    "typeof(123548.739291)"
   ]
  },
  {
   "cell_type": "code",
   "execution_count": 34,
   "metadata": {},
   "outputs": [
    {
     "name": "stdout",
     "output_type": "stream",
     "text": [
      "9.0\n"
     ]
    }
   ],
   "source": [
    "println(round(a))"
   ]
  },
  {
   "cell_type": "code",
   "execution_count": null,
   "metadata": {},
   "outputs": [],
   "source": [
    "using JuliaBerry.PiGPIO"
   ]
  },
  {
   "cell_type": "code",
   "execution_count": 1,
   "metadata": {
    "scrolled": true
   },
   "outputs": [
    {
     "name": "stdout",
     "output_type": "stream",
     "text": [
      "search: \u001b[0m\u001b[1mc\u001b[22m\u001b[0m\u001b[1mo\u001b[22m\u001b[0m\u001b[1mn\u001b[22m\u001b[0m\u001b[1ms\u001b[22m\u001b[0m\u001b[1mt\u001b[22m is\u001b[0m\u001b[1mc\u001b[22m\u001b[0m\u001b[1mo\u001b[22m\u001b[0m\u001b[1mn\u001b[22m\u001b[0m\u001b[1ms\u001b[22m\u001b[0m\u001b[1mt\u001b[22m Math\u001b[0m\u001b[1mC\u001b[22m\u001b[0m\u001b[1mo\u001b[22m\u001b[0m\u001b[1mn\u001b[22m\u001b[0m\u001b[1ms\u001b[22m\u001b[0m\u001b[1mt\u001b[22mants \u001b[0m\u001b[1mc\u001b[22m\u001b[0m\u001b[1mo\u001b[22mdeu\u001b[0m\u001b[1mn\u001b[22mit\u001b[0m\u001b[1ms\u001b[22m n\u001b[0m\u001b[1mc\u001b[22m\u001b[0m\u001b[1mo\u001b[22mdeu\u001b[0m\u001b[1mn\u001b[22mit\u001b[0m\u001b[1ms\u001b[22m \u001b[0m\u001b[1mc\u001b[22m\u001b[0m\u001b[1mo\u001b[22mu\u001b[0m\u001b[1mn\u001b[22mtline\u001b[0m\u001b[1ms\u001b[22m \u001b[0m\u001b[1mc\u001b[22m\u001b[0m\u001b[1mo\u001b[22mu\u001b[0m\u001b[1mn\u001b[22mt_one\u001b[0m\u001b[1ms\u001b[22m\n",
      "\n"
     ]
    },
    {
     "data": {
      "text/latex": [
       "\\begin{verbatim}\n",
       "const\n",
       "\\end{verbatim}\n",
       "\\texttt{const} is used to declare global variables whose values will not change. In almost all code (and particularly performance sensitive code) global variables should be declared constant in this way.\n",
       "\n",
       "\\begin{verbatim}\n",
       "const x = 5\n",
       "\\end{verbatim}\n",
       "Multiple variables can be declared within a single \\texttt{const}:\n",
       "\n",
       "\\begin{verbatim}\n",
       "const y, z = 7, 11\n",
       "\\end{verbatim}\n",
       "Note that \\texttt{const} only applies to one \\texttt{=} operation, therefore \\texttt{const x = y = 1} declares \\texttt{x} to be constant but not \\texttt{y}. On the other hand, \\texttt{const x = const y = 1} declares both \\texttt{x} and \\texttt{y} constant.\n",
       "\n",
       "Note that \"constant-ness\" does not extend into mutable containers; only the association between a variable and its value is constant. If \\texttt{x} is an array or dictionary (for example) you can still modify, add, or remove elements.\n",
       "\n",
       "In some cases changing the value of a \\texttt{const} variable gives a warning instead of an error. However, this can produce unpredictable behavior or corrupt the state of your program, and so should be avoided. This feature is intended only for convenience during interactive use.\n",
       "\n"
      ],
      "text/markdown": [
       "```\n",
       "const\n",
       "```\n",
       "\n",
       "`const` is used to declare global variables whose values will not change. In almost all code (and particularly performance sensitive code) global variables should be declared constant in this way.\n",
       "\n",
       "```julia\n",
       "const x = 5\n",
       "```\n",
       "\n",
       "Multiple variables can be declared within a single `const`:\n",
       "\n",
       "```julia\n",
       "const y, z = 7, 11\n",
       "```\n",
       "\n",
       "Note that `const` only applies to one `=` operation, therefore `const x = y = 1` declares `x` to be constant but not `y`. On the other hand, `const x = const y = 1` declares both `x` and `y` constant.\n",
       "\n",
       "Note that \"constant-ness\" does not extend into mutable containers; only the association between a variable and its value is constant. If `x` is an array or dictionary (for example) you can still modify, add, or remove elements.\n",
       "\n",
       "In some cases changing the value of a `const` variable gives a warning instead of an error. However, this can produce unpredictable behavior or corrupt the state of your program, and so should be avoided. This feature is intended only for convenience during interactive use.\n"
      ],
      "text/plain": [
       "\u001b[36m  const\u001b[39m\n",
       "\n",
       "  \u001b[36mconst\u001b[39m is used to declare global variables whose values will not change. In\n",
       "  almost all code (and particularly performance sensitive code) global\n",
       "  variables should be declared constant in this way.\n",
       "\n",
       "\u001b[36m  const x = 5\u001b[39m\n",
       "\n",
       "  Multiple variables can be declared within a single \u001b[36mconst\u001b[39m:\n",
       "\n",
       "\u001b[36m  const y, z = 7, 11\u001b[39m\n",
       "\n",
       "  Note that \u001b[36mconst\u001b[39m only applies to one \u001b[36m=\u001b[39m operation, therefore \u001b[36mconst x = y = 1\u001b[39m\n",
       "  declares \u001b[36mx\u001b[39m to be constant but not \u001b[36my\u001b[39m. On the other hand, \u001b[36mconst x = const y =\n",
       "  1\u001b[39m declares both \u001b[36mx\u001b[39m and \u001b[36my\u001b[39m constant.\n",
       "\n",
       "  Note that \"constant-ness\" does not extend into mutable containers; only the\n",
       "  association between a variable and its value is constant. If \u001b[36mx\u001b[39m is an array\n",
       "  or dictionary (for example) you can still modify, add, or remove elements.\n",
       "\n",
       "  In some cases changing the value of a \u001b[36mconst\u001b[39m variable gives a warning instead\n",
       "  of an error. However, this can produce unpredictable behavior or corrupt the\n",
       "  state of your program, and so should be avoided. This feature is intended\n",
       "  only for convenience during interactive use."
      ]
     },
     "execution_count": 1,
     "metadata": {},
     "output_type": "execute_result"
    }
   ],
   "source": [
    "? const"
   ]
  },
  {
   "cell_type": "code",
   "execution_count": null,
   "metadata": {
    "scrolled": true
   },
   "outputs": [
    {
     "name": "stderr",
     "output_type": "stream",
     "text": [
      "┌ Info: Precompiling JuliaBerry [c0b9960a-c887-5387-b23a-5cf61873b836]\n",
      "└ @ Base loading.jl:1192\n",
      "┌ Info: Recompiling stale cache file /home/pi/.julia/compiled/v1.0/PiGPIO/8aGxa.ji for PiGPIO [bb151fc1-c6dc-5496-8ed6-07f94907e623]\n",
      "└ @ Base loading.jl:1190\n",
      "┌ Info: Successfully connected!\n",
      "└ @ PiGPIO /home/pi/.julia/packages/PiGPIO/zdssl/src/pi.jl:1309\n",
      "┌ Info: Successfully connected!\n",
      "└ @ PiGPIO /home/pi/.julia/packages/PiGPIO/zdssl/src/pi.jl:1309\n",
      "┌ Info: Successfully connected!\n",
      "└ @ PiGPIO /home/pi/.julia/packages/PiGPIO/zdssl/src/pi.jl:1309\n"
     ]
    },
    {
     "name": "stdout",
     "output_type": "stream",
     "text": [
      "Ax= 262139.9984741211\tAy= 262139.9984741211\tAz= 262139.9984741211\tGx= 3.2785509427480917e7\tGy= 3.2785509427480917e7\tGz= 3.2785509427480917e7\n",
      "Ax= 262139.9984741211\tAy= 262139.9984741211\tAz= 262139.9984741211\tGx= 3.2785509427480917e7\tGy= 3.2785509427480917e7\tGz= 3.2785509427480917e7\n",
      "Ax= 262139.9984741211\tAy= 262139.9984741211\tAz= 262139.9984741211\tGx= 3.2785509427480917e7\tGy= 3.2785509427480917e7\tGz= 3.2785509427480917e7\n",
      "Ax= 262139.9984741211\tAy= 262139.9984741211\tAz= 262139.9984741211\tGx= 3.2785509427480917e7\tGy= 3.2785509427480917e7\tGz= 3.2785509427480917e7\n",
      "Ax= 262139.9984741211\tAy= 262139.9984741211\tAz= 262139.9984741211\tGx= 3.2785509427480917e7\tGy= 3.2785509427480917e7\tGz= 3.2785509427480917e7\n",
      "Ax= 262139.9984741211\tAy= 262139.9984741211\tAz= 262139.9984741211\tGx= 3.2785509427480917e7\tGy= 3.2785509427480917e7\tGz= 3.2785509427480917e7\n",
      "Ax= 262139.9984741211\tAy= 262139.9984741211\tAz= 262139.9984741211\tGx= 3.2785509427480917e7\tGy= 3.2785509427480917e7\tGz= 3.2785509427480917e7\n",
      "Ax= 262139.9984741211\tAy= 262139.9984741211\tAz= 262139.9984741211\tGx= 3.2785509427480917e7\tGy= 3.2785509427480917e7\tGz= 3.2785509427480917e7\n",
      "Ax= 262139.9984741211\tAy= 262139.9984741211\tAz= 262139.9984741211\tGx= 3.2785509427480917e7\tGy= 3.2785509427480917e7\tGz= 3.2785509427480917e7\n",
      "Ax= 262139.9984741211\tAy= 262139.9984741211\tAz= 262139.9984741211\tGx= 3.2785509427480917e7\tGy= 3.2785509427480917e7\tGz= 3.2785509427480917e7\n",
      "Ax= 262139.9984741211\tAy= 262139.9984741211\tAz= 262139.9984741211\tGx= 3.2785509427480917e7\tGy= 3.2785509427480917e7\tGz= 3.2785509427480917e7\n",
      "Ax= 262139.9984741211\tAy= 262139.9984741211\tAz= 262139.9984741211\tGx= 3.2785509427480917e7\tGy= 3.2785509427480917e7\tGz= 3.2785509427480917e7\n",
      "Ax= 262139.9984741211\tAy= 262139.9984741211\tAz= 262139.9984741211\tGx= 3.2785509427480917e7\tGy= 3.2785509427480917e7\tGz= 3.2785509427480917e7\n",
      "Ax= 262139.9984741211\tAy= 262139.9984741211\tAz= 262139.9984741211\tGx= 3.2785509427480917e7\tGy= 3.2785509427480917e7\tGz= 3.2785509427480917e7\n",
      "Ax= 262139.9984741211\tAy= 262139.9984741211\tAz= 262139.9984741211\tGx= 3.2785509427480917e7\tGy= 3.2785509427480917e7\tGz= 3.2785509427480917e7\n",
      "Ax= 262139.9984741211\tAy= 262139.9984741211\tAz= 262139.9984741211\tGx= 3.2785509427480917e7\tGy= 3.2785509427480917e7\tGz= 3.2785509427480917e7\n",
      "Ax= 262139.9984741211\tAy= 262139.9984741211\tAz= 262139.9984741211\tGx= 3.2785509427480917e7\tGy= 3.2785509427480917e7\tGz= 3.2785509427480917e7\n",
      "Ax= 262139.9984741211\tAy= 262139.9984741211\tAz= 262139.9984741211\tGx= 3.2785509427480917e7\tGy= 3.2785509427480917e7\tGz= 3.2785509427480917e7\n",
      "Ax= 262139.9984741211\tAy= 262139.9984741211\tAz= 262139.9984741211\tGx= 3.2785509427480917e7\tGy= 3.2785509427480917e7\tGz= 3.2785509427480917e7\n",
      "Ax= 262139.9984741211\tAy= 262139.9984741211\tAz= 262139.9984741211\tGx= 3.2785509427480917e7\tGy= 3.2785509427480917e7\tGz= 3.2785509427480917e7\n",
      "Ax= 262139.9984741211\tAy= 262139.9984741211\tAz= 262139.9984741211\tGx= 3.2785509427480917e7\tGy= 3.2785509427480917e7\tGz= 3.2785509427480917e7\n",
      "Ax= 262139.9984741211\tAy= 262139.9984741211\tAz= 262139.9984741211\tGx= 3.2785509427480917e7\tGy= 3.2785509427480917e7\tGz= 3.2785509427480917e7\n",
      "Ax= 262139.9984741211\tAy= 262139.9984741211\tAz= 262139.9984741211\tGx= 3.2785509427480917e7\tGy= 3.2785509427480917e7\tGz= 3.2785509427480917e7\n",
      "Ax= 262139.9984741211\tAy= 262139.9984741211\tAz= 262139.9984741211\tGx= 3.2785509427480917e7\tGy= 3.2785509427480917e7\tGz= 3.2785509427480917e7\n",
      "Ax= 262139.9984741211\tAy= 262139.9984741211\tAz= 262139.9984741211\tGx= 3.2785509427480917e7\tGy= 3.2785509427480917e7\tGz= 3.2785509427480917e7\n",
      "Ax= 262139.9984741211\tAy= 262139.9984741211\tAz= 262139.9984741211\tGx= 3.2785509427480917e7\tGy= 3.2785509427480917e7\tGz= 3.2785509427480917e7\n",
      "Ax= 262139.9984741211\tAy= 262139.9984741211\tAz= 262139.9984741211\tGx= 3.2785509427480917e7\tGy= 3.2785509427480917e7\tGz= 3.2785509427480917e7\n",
      "Ax= 262139.9984741211\tAy= 262139.9984741211\tAz= 262139.9984741211\tGx= 3.2785509427480917e7\tGy= 3.2785509427480917e7\tGz= 3.2785509427480917e7\n",
      "Ax= 262139.9984741211\tAy= 262139.9984741211\tAz= 262139.9984741211\tGx= 3.2785509427480917e7\tGy= 3.2785509427480917e7\tGz= 3.2785509427480917e7\n",
      "Ax= 262139.9984741211\tAy= 262139.9984741211\tAz= 262139.9984741211\tGx= 3.2785509427480917e7\tGy= 3.2785509427480917e7\tGz= 3.2785509427480917e7\n",
      "Ax= 262139.9984741211\tAy= 262139.9984741211\tAz= 262139.9984741211\tGx= 3.2785509427480917e7\tGy= 3.2785509427480917e7\tGz= 3.2785509427480917e7\n",
      "Ax= 262139.9984741211\tAy= 262139.9984741211\tAz= 262139.9984741211\tGx= 3.2785509427480917e7\tGy= 3.2785509427480917e7\tGz= 3.2785509427480917e7\n",
      "Ax= 262139.9984741211\tAy= 262139.9984741211\tAz= 262139.9984741211\tGx= 3.2785509427480917e7\tGy= 3.2785509427480917e7\tGz= 3.2785509427480917e7\n",
      "Ax= 262139.9984741211\tAy= 262139.9984741211\tAz= 262139.9984741211\tGx= 3.2785509427480917e7\tGy= 3.2785509427480917e7\tGz= 3.2785509427480917e7\n",
      "Ax= 262139.9984741211\tAy= 262139.9984741211\tAz= 262139.9984741211\tGx= 3.2785509427480917e7\tGy= 3.2785509427480917e7\tGz= 3.2785509427480917e7\n",
      "Ax= 262139.9984741211\tAy= 262139.9984741211\tAz= 262139.9984741211\tGx= 3.2785509427480917e7\tGy= 3.2785509427480917e7\tGz= 3.2785509427480917e7\n",
      "Ax= 262139.9984741211\tAy= 262139.9984741211\tAz= 262139.9984741211\tGx= 3.2785509427480917e7\tGy= 3.2785509427480917e7\tGz= 3.2785509427480917e7\n",
      "Ax= 262139.9984741211\tAy= 262139.9984741211\tAz= 262139.9984741211\tGx= 3.2785509427480917e7\tGy= 3.2785509427480917e7\tGz= 3.2785509427480917e7\n",
      "Ax= 262139.9984741211\tAy= 262139.9984741211\tAz= 262139.9984741211\tGx= 3.2785509427480917e7\tGy= 3.2785509427480917e7\tGz= 3.2785509427480917e7\n",
      "Ax= 262139.9984741211\tAy= 262139.9984741211\tAz= 262139.9984741211\tGx= 3.2785509427480917e7\tGy= 3.2785509427480917e7\tGz= 3.2785509427480917e7\n",
      "Ax= 262139.9984741211\tAy= 262139.9984741211\tAz= 262139.9984741211\tGx= 3.2785509427480917e7\tGy= 3.2785509427480917e7\tGz= 3.2785509427480917e7\n",
      "Ax= 262139.9984741211\tAy= 262139.9984741211\tAz= 262139.9984741211\tGx= 3.2785509427480917e7\tGy= 3.2785509427480917e7\tGz= 3.2785509427480917e7\n",
      "Ax= 262139.9984741211\tAy= 262139.9984741211\tAz= 262139.9984741211\tGx= 3.2785509427480917e7\tGy= 3.2785509427480917e7\tGz= 3.2785509427480917e7\n",
      "Ax= 262139.9984741211\tAy= 262139.9984741211\tAz= 262139.9984741211\tGx= 3.2785509427480917e7\tGy= 3.2785509427480917e7\tGz= 3.2785509427480917e7\n",
      "Ax= 262139.9984741211\tAy= 262139.9984741211\tAz= 262139.9984741211\tGx= 3.2785509427480917e7\tGy= 3.2785509427480917e7\tGz= 3.2785509427480917e7\n",
      "Ax= 262139.9984741211\tAy= 262139.9984741211\tAz= 262139.9984741211\tGx= 3.2785509427480917e7\tGy= 3.2785509427480917e7\tGz= 3.2785509427480917e7\n",
      "Ax= 262139.9984741211\tAy= 262139.9984741211\tAz= 262139.9984741211\tGx= 3.2785509427480917e7\tGy= 3.2785509427480917e7\tGz= 3.2785509427480917e7\n",
      "Ax= 262139.9984741211\tAy= 262139.9984741211\tAz= 262139.9984741211\tGx= 3.2785509427480917e7\tGy= 3.2785509427480917e7\tGz= 3.2785509427480917e7\n",
      "Ax= 262139.9984741211\tAy= 262139.9984741211\tAz= 262139.9984741211\tGx= 3.2785509427480917e7\tGy= 3.2785509427480917e7\tGz= 3.2785509427480917e7\n",
      "Ax= 262139.9984741211\tAy= 262139.9984741211\tAz= 262139.9984741211\tGx= 3.2785509427480917e7\tGy= 3.2785509427480917e7\tGz= 3.2785509427480917e7\n"
     ]
    }
   ],
   "source": [
    "\n",
    "\n",
    "#using JuliaBerry\n",
    "using JuliaBerry.PiGPIO\n",
    "\n",
    "p = Pi()\n",
    "\n",
    "const PWR_MGMT_1   = 0x6B\n",
    "const SMPLRT_DIV   = 0x19\n",
    "const CONFIG       = 0x1A\n",
    "const GYRO_CONFIG  = 0x1B\n",
    "const INT_ENABLE   = 0x38\n",
    "const ACCEL_XOUT_H = 0x3B\n",
    "const ACCEL_YOUT_H = 0x3D\n",
    "const ACCEL_ZOUT_H = 0x3F\n",
    "const GYRO_XOUT_H  = 0x43\n",
    "const GYRO_YOUT_H  = 0x45\n",
    "const GYRO_ZOUT_H  = 0x47\n",
    "\n",
    "#PiGPIO.set_mode(p, 2, PiGPIO.OUTPUT)\n",
    "\n",
    "\n",
    "#function i2c_write_byte(p::Pi, handle, byte_val)\n",
    "#    return PiGPIO._pigpio_command(p.sl, PiGPIO._PI_CMD_I2CWS, handle, byte_val)\n",
    "#end\n",
    "\n",
    "\n",
    "function MPU()\n",
    "    PiGPIO.i2c_write_byte(p, SMPLRT_DIV, 7)\n",
    "    PiGPIO.i2c_write_byte(p, PWR_MGMT_1, 1)\n",
    "    PiGPIO.i2c_write_byte(p, CONFIG, 0)\n",
    "    PiGPIO.i2c_write_byte(p, GYRO_CONFIG, 24)\n",
    "    PiGPIO.i2c_write_byte(p, INT_ENABLE, 1)\n",
    "end\n",
    "\n",
    "\n",
    "#function i2c_read_byte(p::Pi, handle)\n",
    "#    return PiGPIO._pigpio_command(p.sl, PiGPIO._PI_CMD_I2CRS, handle, 0)\n",
    "#end\n",
    "\n",
    "\n",
    "function read_raw_data(addr)\n",
    "    high = PiGPIO.i2c_read_byte(p, addr)\n",
    "    low = PiGPIO.i2c_read_byte(p, addr+1)\n",
    "    \n",
    "    value = ((high << 8) | low)\n",
    "    \n",
    "    if value > 32768\n",
    "        value = value - 65536\n",
    "    else\n",
    "        return value = value\n",
    "    end\n",
    "end\n",
    "\n",
    "MPU()\n",
    "\n",
    "try\n",
    "    while true\n",
    "    acc_x = read_raw_data(ACCEL_XOUT_H)\n",
    "    acc_y = read_raw_data(ACCEL_YOUT_H)\n",
    "    acc_z = read_raw_data(ACCEL_ZOUT_H)\n",
    "    \n",
    "    gyro_x = read_raw_data(GYRO_XOUT_H)\n",
    "    gyro_y = read_raw_data(GYRO_YOUT_H)\n",
    "    gyro_z = read_raw_data(GYRO_ZOUT_H)\n",
    "    \n",
    "    Ax = acc_x/16384.0\n",
    "    Ay = acc_y/16384.0\n",
    "    Az = acc_z/16384.0\n",
    "    \n",
    "    Gx = gyro_x/131.0\n",
    "    Gy = gyro_y/131.0\n",
    "    Gz = gyro_z/131.0\n",
    "    \n",
    "    println(\"Ax= \", Ax, \"\\tAy= \", Ay,\"\\tAz= \", Az,\"\\tGx= \", Gx,\"\\tGy= \", Gy,\"\\tGz= \", Gz)\n",
    "    \n",
    "    sleep(1)\n",
    "end\n",
    "    \n",
    "#finally\n",
    "    #PiGPIO.set_mode(p, 2, PiGPIO.INPUT)\n",
    "#end\n"
   ]
  }
 ],
 "metadata": {
  "kernelspec": {
   "display_name": "Julia 1.0.4",
   "language": "julia",
   "name": "julia-1.0"
  },
  "language_info": {
   "file_extension": ".jl",
   "mimetype": "application/julia",
   "name": "julia",
   "version": "1.0.4"
  }
 },
 "nbformat": 4,
 "nbformat_minor": 2
}
