{
 "cells": [
  {
   "cell_type": "markdown",
   "metadata": {},
   "source": [
    "# Controlling the GPIO pins of a Raspberry Pi 3 using Julia (v1.0.4) <br>\n",
    "\n",
    "## Operating an LED <br>\n",
    "\n",
    "\n",
    "First, install the PiGPIO.jl package developed by JuliaBerry using the following instructions. But, before that make sure that your daemon has sudo previleges. This can be done by typing  $sudo$ $pigpiod$ at the raspberry pi terminal.\n",
    "\n",
    "The default localhost assigned to pigpiod is 8888. Thus, if any other application (for eg: Jupyter Notebook) is already assigned to this server make appropriate changes before launching the pigpiod."
   ]
  },
  {
   "cell_type": "code",
   "execution_count": null,
   "metadata": {},
   "outputs": [],
   "source": [
    "using Pkg\n",
    "Pkg.add(PackageSpec(url=\"https://github.com/JuliaBerry/PiGPIO.jl\"))"
   ]
  },
  {
   "cell_type": "markdown",
   "metadata": {},
   "source": [
    "Once the PiGPIO is installed, the next step would be to connect the pi to pigpiod daemon on localhost using the PiGPIO package."
   ]
  },
  {
   "cell_type": "code",
   "execution_count": null,
   "metadata": {},
   "outputs": [],
   "source": [
    "using PiGPIO\n",
    "\n",
    "p = Pi() # Connects your Raspberry Pi to pigpiod daemon on localhost:8888"
   ]
  },
  {
   "cell_type": "markdown",
   "metadata": {},
   "source": [
    "Next step is to select the GPIO pin through which we would send the signal to an LED which is connected to the Raspberry Pi using a breadboard and a resistor. The positive terminal of the led is connected to GPIO18 (Pin 12) and its negative terminal to any GND on the pi (Pin 6, in my case) through a resistor."
   ]
  },
  {
   "cell_type": "code",
   "execution_count": null,
   "metadata": {},
   "outputs": [],
   "source": [
    "pin = 18 # GPIO BCM number\n",
    "\n",
    "set_mode(p, pin, PiGPIO.OUTPUT)\n",
    "\n",
    "try \n",
    "    for i = 1:20\n",
    "        PiGPIO.write(p, pin, PiGPIO.HIGH)\n",
    "        sleep(0.5)\n",
    "        PiGPIO.write(p, pin, PiGPIO.LOW)\n",
    "        sleep(0.5)\n",
    "    end\n",
    "finally\n",
    "    set_mode(p, pin, PiGPIO.INPUT)\n",
    "end"
   ]
  }
 ],
 "metadata": {
  "kernelspec": {
   "display_name": "Julia 1.0.4",
   "language": "julia",
   "name": "julia-1.0"
  },
  "language_info": {
   "file_extension": ".jl",
   "mimetype": "application/julia",
   "name": "julia",
   "version": "1.0.4"
  }
 },
 "nbformat": 4,
 "nbformat_minor": 2
}
