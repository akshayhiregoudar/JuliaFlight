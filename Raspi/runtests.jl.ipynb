{
 "cells": [
  {
   "cell_type": "code",
   "execution_count": null,
   "metadata": {},
   "outputs": [],
   "source": [
    "module KalmanFilter\n",
    "\n",
    "using KalmanFilter\n",
    "using LinearAlgebra\n",
    "using Statistics\n",
    "using Compat\n",
    "using Test\n",
    "using Random\n",
    "\n"
   ]
  },
  {
   "cell_type": "code",
   "execution_count": null,
   "metadata": {},
   "outputs": [],
   "source": [
    "mutable struct KalmanFilter\n",
    "    A\n",
    "    B\n",
    "    C\n",
    "    P\n",
    "    Q\n",
    "    R\n",
    "end\n",
    "\n",
    "function KalmanFilter()"
   ]
  },
  {
   "cell_type": "code",
   "execution_count": null,
   "metadata": {},
   "outputs": [],
   "source": [
    "#test_kalman.jl\n",
    "\n",
    "@testset \"Testing KalmanFilter.jl\"\n",
    "\n",
    "begin\n",
    "        A = [1 0 0 -dt 0 0; 0 1 0 0 -dt 0; 0 0 1 0 0 -dt; 0 0 0 1 0 0; 0 0 0 0 0 1];\n",
    "        B = [dt 0 0; 0 dt 0; 0 0 dt; 0 0 0; 0 0 0; 0 0 0];\n",
    "        C = [1 0 0 0 0 0; 0 1 0 0 0 0; 0 0 1 0 0 0];\n",
    "        P = eye(6);\n",
    "        Q = eye(6) * 0.0008;\n",
    "        R = [0.1 0 0; 0 0.1 0; 0 0 10];\n",
    "        state_estimate = [ 0 0 0 0 0 0];\n",
    "        filtered_data = [0 0 0];\n",
    "\n",
    "        filtered_roll = []\n",
    "        filtered_pitch = []\n",
    "        filtered_yaw = []\n"
   ]
  },
  {
   "cell_type": "code",
   "execution_count": null,
   "metadata": {},
   "outputs": [],
   "source": [
    "# runtests.jl\n",
    "\n",
    "using KalmanFilter\n",
    "using Test\n",
    "using LinearAlgebra\n",
    "using Statistics\n",
    "using Compat\n",
    "using Random\n",
    "\n",
    "tests = [\n",
    "        \"filter\",\n",
    "        \"kalman\",\n",
    "        ]\n",
    "\n",
    "if length(ARGS) > 0\n",
    "        tests = ARGS\n",
    "end\n",
    "\n",
    "Random.seed!(42)\n",
    "\n",
    "for t in tests\n",
    "        test_file = \"test_$t.jl\"\n",
    "        printstyled(\"*$test_file\\n\", color=:green)\n",
    "        include(test_file)\n",
    "end\n",
    "\n"
   ]
  }
 ],
 "metadata": {
  "kernelspec": {
   "display_name": "Julia 1.0.3",
   "language": "julia",
   "name": "julia-1.0"
  },
  "language_info": {
   "file_extension": ".jl",
   "mimetype": "application/julia",
   "name": "julia",
   "version": "1.0.3"
  }
 },
 "nbformat": 4,
 "nbformat_minor": 2
}
