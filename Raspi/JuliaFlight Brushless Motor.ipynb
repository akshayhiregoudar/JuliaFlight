{
 "cells": [
  {
   "cell_type": "code",
   "execution_count": 20,
   "metadata": {},
   "outputs": [
    {
     "name": "stderr",
     "output_type": "stream",
     "text": [
      "┌ Info: Successfully connected!\n",
      "└ @ PiGPIO /home/pi/.julia/packages/PiGPIO/e5h1O/src/pi.jl:1309\n"
     ]
    },
    {
     "data": {
      "text/plain": [
       "18"
      ]
     },
     "execution_count": 20,
     "metadata": {},
     "output_type": "execute_result"
    }
   ],
   "source": [
    "import PiGPIO\n",
    "using PiGPIO\n",
    "\n",
    "p = Pi()\n",
    "\n",
    "pin = 18"
   ]
  },
  {
   "cell_type": "code",
   "execution_count": 18,
   "metadata": {},
   "outputs": [
    {
     "ename": "ErrorException",
     "evalue": "type Pi has no field set_servo_pulsewidth",
     "output_type": "error",
     "traceback": [
      "type Pi has no field set_servo_pulsewidth",
      "",
      "Stacktrace:",
      " [1] getproperty(::Any, ::Symbol) at ./sysimg.jl:18",
      " [2] top-level scope at In[18]:3"
     ]
    }
   ],
   "source": [
    "gyro_pin = 18\n",
    "pulse = 0\n",
    "p.set_servo_pulsewidth(p, gyro_pin, pulse)"
   ]
  },
  {
   "cell_type": "code",
   "execution_count": null,
   "metadata": {},
   "outputs": [],
   "source": []
  }
 ],
 "metadata": {
  "kernelspec": {
   "display_name": "Julia 1.0.4",
   "language": "julia",
   "name": "julia-1.0"
  },
  "language_info": {
   "file_extension": ".jl",
   "mimetype": "application/julia",
   "name": "julia",
   "version": "1.0.4"
  }
 },
 "nbformat": 4,
 "nbformat_minor": 2
}
