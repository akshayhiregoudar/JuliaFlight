{
 "cells": [
  {
   "cell_type": "code",
   "execution_count": 2,
   "metadata": {},
   "outputs": [
    {
     "name": "stdout",
     "output_type": "stream",
     "text": [
      "\u001b[32m\u001b[1m  Updating\u001b[22m\u001b[39m registry at `~/.julia/registries/General`\n",
      "\u001b[32m\u001b[1m  Updating\u001b[22m\u001b[39m git-repo `https://github.com/JuliaRegistries/General.git`\n",
      "\u001b[2K\u001b[?25h[1mFetching:\u001b[22m\u001b[39m [========================================>]  100.0 %.0 %52.4 %\u001b[36m\u001b[1mFetching:\u001b[22m\u001b[39m [======================>                  ]  54.6 %\u001b[32m\u001b[1m   Cloning\u001b[22m\u001b[39m git-repo `https://github.com/JuliaPy/PyCall.jl`\n",
      "\u001b[2K\u001b[?25h[1mFetching:\u001b[22m\u001b[39m [========================================>]  100.0 %.0 %\u001b[36m\u001b[1mFetching:\u001b[22m\u001b[39m [======>                                  ]  13.3 %\u001b[36m\u001b[1mFetching:\u001b[22m\u001b[39m [=======>                                 ]  16.4 %\u001b[36m\u001b[1mFetching:\u001b[22m\u001b[39m [========>                                ]  19.4 %>                            ]  28.6 %\u001b[36m\u001b[1mFetching:\u001b[22m\u001b[39m [=============>                           ]  30.5 %\u001b[36m\u001b[1mFetching:\u001b[22m\u001b[39m [==============>                          ]  32.7 %\u001b[36m\u001b[1mFetching:\u001b[22m\u001b[39m [==============>                          ]  34.0 %\u001b[36m\u001b[1mFetching:\u001b[22m\u001b[39m [===============>                         ]  36.7 %\u001b[36m\u001b[1mFetching:\u001b[22m\u001b[39m [================>                        ]  38.0 %\u001b[36m\u001b[1mFetching:\u001b[22m\u001b[39m [=================>                       ]  40.2 %\u001b[36m\u001b[1mFetching:\u001b[22m\u001b[39m [=================>                       ]  41.9 %\u001b[36m\u001b[1mFetching:\u001b[22m\u001b[39m [==================>                      ]  43.3 %\u001b[36m\u001b[1mFetching:\u001b[22m\u001b[39m [===================>                     ]  46.0 %\u001b[36m\u001b[1mFetching:\u001b[22m\u001b[39m [====================>                    ]  48.4 %>                   ]  51.5 %\u001b[36m\u001b[1mFetching:\u001b[22m\u001b[39m [=========================>               ]  60.5 %\u001b[36m\u001b[1mFetching:\u001b[22m\u001b[39m [===========================>             ]  65.4 %\u001b[36m\u001b[1mFetching:\u001b[22m\u001b[39m [============================>            ]  68.7 %.6 %\u001b[36m\u001b[1mFetching:\u001b[22m\u001b[39m [==================================>      ]  82.7 %\u001b[36m\u001b[1mFetching:\u001b[22m\u001b[39m [===================================>     ]  85.6 %\u001b[32m\u001b[1m  Updating\u001b[22m\u001b[39m git-repo `https://github.com/JuliaPy/PyCall.jl`\n",
      "\u001b[2K\u001b[?25h[1mFetching:\u001b[22m\u001b[39m [========================================>]  99.9 %0.0 %=======>                                 ]  17.2 %\u001b[36m\u001b[1mFetching:\u001b[22m\u001b[39m [====================>                    ]  48.9 %              ]  63.3 % [==============================>          ]  73.0 %\u001b[36m\u001b[1mFetching:\u001b[22m\u001b[39m [=================================>       ]  81.2 %\u001b[36m\u001b[1mFetching:\u001b[22m\u001b[39m [===================================>     ]  85.2 %\u001b[36m\u001b[1mFetching:\u001b[22m\u001b[39m [====================================>    ]  88.9 %\u001b[36m\u001b[1mFetching:\u001b[22m\u001b[39m [====================================>    ]  89.5 %\u001b[36m\u001b[1mFetching:\u001b[22m\u001b[39m [======================================>  ]  93.1 %\u001b[36m\u001b[1mFetching:\u001b[22m\u001b[39m [======================================>  ]  94.6 %\u001b[36m\u001b[1mFetching:\u001b[22m\u001b[39m [=======================================> ]  96.2 %\u001b[36m\u001b[1mFetching:\u001b[22m\u001b[39m [=======================================> ]  97.3 %\u001b[32m\u001b[1m Resolving\u001b[22m\u001b[39m package versions...\n",
      "\u001b[32m\u001b[1m  Updating\u001b[22m\u001b[39m `~/.julia/environments/v1.0/Project.toml`\n",
      " \u001b[90m [438e738f]\u001b[39m\u001b[93m ~ PyCall v1.91.2 ⇒ v1.91.2 #master (https://github.com/JuliaPy/PyCall.jl)\u001b[39m\n",
      "\u001b[32m\u001b[1m  Updating\u001b[22m\u001b[39m `~/.julia/environments/v1.0/Manifest.toml`\n",
      " \u001b[90m [438e738f]\u001b[39m\u001b[93m ~ PyCall v1.91.2 ⇒ v1.91.2 #master (https://github.com/JuliaPy/PyCall.jl)\u001b[39m\n",
      "\u001b[32m\u001b[1m  Building\u001b[22m\u001b[39m PyCall → `~/.julia/packages/PyCall/108Ag/deps/build.log`\n"
     ]
    }
   ],
   "source": [
    "using Pkg\n",
    "Pkg.add(PackageSpec(url=\"https://github.com/JuliaPy/PyCall.jl\"))"
   ]
  },
  {
   "cell_type": "code",
   "execution_count": 1,
   "metadata": {},
   "outputs": [
    {
     "name": "stderr",
     "output_type": "stream",
     "text": [
      "┌ Info: Recompiling stale cache file /home/pi/.julia/compiled/v1.0/PyCall/GkzkC.ji for PyCall [438e738f-606a-5dbb-bf0a-cddfbfd45ab0]\n",
      "└ @ Base loading.jl:1190\n"
     ]
    },
    {
     "data": {
      "text/plain": [
       "PyObject <module 'smbus' from '/usr/lib/python3/dist-packages/smbus.cpython-37m-arm-linux-gnueabihf.so'>"
      ]
     },
     "execution_count": 1,
     "metadata": {},
     "output_type": "execute_result"
    }
   ],
   "source": [
    "using PyCall\n",
    "smbus = pyimport(\"smbus\")"
   ]
  },
  {
   "cell_type": "code",
   "execution_count": 2,
   "metadata": {},
   "outputs": [
    {
     "name": "stderr",
     "output_type": "stream",
     "text": [
      "┌ Info: Precompiling JuliaBerry [c0b9960a-c887-5387-b23a-5cf61873b836]\n",
      "└ @ Base loading.jl:1192\n",
      "┌ Info: Successfully connected!\n",
      "└ @ PiGPIO /home/pi/.julia/packages/PiGPIO/zdssl/src/pi.jl:1309\n",
      "┌ Info: Successfully connected!\n",
      "└ @ PiGPIO /home/pi/.julia/packages/PiGPIO/zdssl/src/pi.jl:1309\n",
      "┌ Info: Successfully connected!\n",
      "└ @ PiGPIO /home/pi/.julia/packages/PiGPIO/zdssl/src/pi.jl:1309\n"
     ]
    },
    {
     "data": {
      "text/plain": [
       "Pi(\"localhost\", 8888, true, PiGPIO.SockLock(Sockets.TCPSocket(RawFD(0x00000033) open, 0 bytes waiting), ReentrantLock(nothing, Condition(Any[]), 0)), PiGPIO.CallbackThread(PiGPIO.SockLock(Sockets.TCPSocket(RawFD(0x00000033) open, 0 bytes waiting), ReentrantLock(nothing, Condition(Any[]), 0)), PiGPIO.SockLock(Sockets.TCPSocket(RawFD(0x00000034) paused, 0 bytes waiting), ReentrantLock(nothing, Condition(Any[]), 0)), true, true, 0, 0x00000002, Any[]))"
      ]
     },
     "execution_count": 2,
     "metadata": {},
     "output_type": "execute_result"
    }
   ],
   "source": [
    "using JuliaBerry.PiGPIO\n",
    "\n",
    "p= Pi()"
   ]
  },
  {
   "cell_type": "code",
   "execution_count": 3,
   "metadata": {},
   "outputs": [
    {
     "data": {
      "text/plain": [
       "0x47"
      ]
     },
     "execution_count": 3,
     "metadata": {},
     "output_type": "execute_result"
    }
   ],
   "source": [
    "PWR_MGMT_1   = 0x6B\n",
    "SMPLRT_DIV   = 0x19\n",
    "CONFIG       = 0x1A\n",
    "GYRO_CONFIG  = 0x1B\n",
    "INT_ENABLE   = 0x38\n",
    "ACCEL_XOUT_H = 0x3B\n",
    "ACCEL_YOUT_H = 0x3D\n",
    "ACCEL_ZOUT_H = 0x3F\n",
    "GYRO_XOUT_H  = 0x43\n",
    "GYRO_YOUT_H  = 0x45\n",
    "GYRO_ZOUT_H  = 0x47"
   ]
  },
  {
   "cell_type": "code",
   "execution_count": 4,
   "metadata": {},
   "outputs": [
    {
     "data": {
      "text/plain": [
       "0x68"
      ]
     },
     "execution_count": 4,
     "metadata": {},
     "output_type": "execute_result"
    }
   ],
   "source": [
    "bus = smbus.SMBus(1)    # or bus = smbus.SMBus(0) for older version boards\n",
    "Device_Address = 0x68   # MPU9250 device address"
   ]
  },
  {
   "cell_type": "code",
   "execution_count": 5,
   "metadata": {},
   "outputs": [
    {
     "data": {
      "text/plain": [
       "MPU (generic function with 1 method)"
      ]
     },
     "execution_count": 5,
     "metadata": {},
     "output_type": "execute_result"
    }
   ],
   "source": [
    "function MPU()\n",
    "    #write to sample rate register\n",
    "    bus.write_byte_data(Device_Address, SMPLRT_DIV, 7)\n",
    "    \n",
    "    #Write to power management register\n",
    "    bus.write_byte_data(Device_Address, PWR_MGMT_1, 1)\n",
    "    \n",
    "    #Write to Configuration register\n",
    "    bus.write_byte_data(Device_Address, CONFIG, 0)\n",
    "    \n",
    "    #Write to Gyro configuration register\n",
    "    bus.write_byte_data(Device_Address, GYRO_CONFIG, 24)\n",
    "    \n",
    "    #Write to interrupt enable register\n",
    "    bus.write_byte_data(Device_Address, INT_ENABLE, 1)\n",
    "end"
   ]
  },
  {
   "cell_type": "code",
   "execution_count": 6,
   "metadata": {},
   "outputs": [
    {
     "data": {
      "text/plain": [
       "read_raw_data (generic function with 1 method)"
      ]
     },
     "execution_count": 6,
     "metadata": {},
     "output_type": "execute_result"
    }
   ],
   "source": [
    "function read_raw_data(addr)\n",
    "    high = bus.read_byte_data(Device_Address, addr)\n",
    "    low = bus.read_byte_data(Device_Address, addr+1)\n",
    "    \n",
    "    value = ((high << 8) | low)\n",
    "        \n",
    "    if value > 32768\n",
    "        value = value - 65536\n",
    "    else\n",
    "        return value\n",
    "    end\n",
    "end"
   ]
  },
  {
   "cell_type": "code",
   "execution_count": 7,
   "metadata": {},
   "outputs": [],
   "source": [
    "MPU()"
   ]
  },
  {
   "cell_type": "code",
   "execution_count": 34,
   "metadata": {},
   "outputs": [
    {
     "data": {
      "text/plain": [
       "0"
      ]
     },
     "execution_count": 34,
     "metadata": {},
     "output_type": "execute_result"
    }
   ],
   "source": [
    "gyro_x = read_raw_data(GYRO_XOUT_H)\n",
    "\n"
   ]
  },
  {
   "cell_type": "code",
   "execution_count": null,
   "metadata": {},
   "outputs": [
    {
     "name": "stdout",
     "output_type": "stream",
     "text": [
      "Ax= 0\tAy= 0\tAz= 0\tGx= 0\tGy= 0\tGz= 0\n",
      "Ax= 0\tAy= 0\tAz= 0\tGx= 0\tGy= 0\tGz= 0\n",
      "Ax= 0\tAy= 0\tAz= 0\tGx= 0\tGy= 0\tGz= 0\n",
      "Ax= 0\tAy= 0\tAz= 0\tGx= 0\tGy= 0\tGz= 0\n",
      "Ax= 0\tAy= 0\tAz= 0\tGx= 0\tGy= 0\tGz= 0\n",
      "Ax= 0\tAy= 0\tAz= 0\tGx= 0\tGy= 0\tGz= 0\n",
      "Ax= 0\tAy= 0\tAz= 0\tGx= 0\tGy= 0\tGz= 0\n",
      "Ax= 0\tAy= 0\tAz= 0\tGx= 0\tGy= 0\tGz= 0\n",
      "Ax= 0\tAy= 0\tAz= 0\tGx= 0\tGy= 0\tGz= 0\n",
      "Ax= 0\tAy= 0\tAz= 0\tGx= 0\tGy= 0\tGz= 0\n",
      "Ax= 0\tAy= 0\tAz= 0\tGx= 0\tGy= 0\tGz= 0\n",
      "Ax= 0\tAy= 0\tAz= 0\tGx= 0\tGy= 0\tGz= 0\n",
      "Ax= 0\tAy= 0\tAz= 0\tGx= 0\tGy= 0\tGz= 0\n"
     ]
    }
   ],
   "source": [
    "while true\n",
    "    acc_x = read_raw_data(ACCEL_XOUT_H)\n",
    "    acc_y = read_raw_data(ACCEL_YOUT_H)\n",
    "    acc_z = read_raw_data(ACCEL_ZOUT_H)\n",
    "    \n",
    "    #Read Gyroscope raw value\n",
    "    gyro_x = read_raw_data(GYRO_XOUT_H)\n",
    "    gyro_y = read_raw_data(GYRO_YOUT_H)\n",
    "    gyro_z = read_raw_data(GYRO_ZOUT_H)\n",
    "    \n",
    "    #Full scale range +/- 250 degree/C as per sensitivity scale factor\n",
    "    Ax = acc_x\n",
    "    Ay = acc_y\n",
    "    Az = acc_z\n",
    "    \n",
    "    Gx = gyro_x\n",
    "    Gy = gyro_y\n",
    "    Gz = gyro_z\n",
    "    \n",
    "\n",
    "    println(\"Ax= \", Ax, \"\\tAy= \", Ay,\"\\tAz= \", Az,\"\\tGx= \", Gx,\"\\tGy= \", Gy,\"\\tGz= \", Gz)\n",
    "    \n",
    "    sleep(1)\n",
    "end"
   ]
  },
  {
   "cell_type": "code",
   "execution_count": null,
   "metadata": {},
   "outputs": [],
   "source": []
  }
 ],
 "metadata": {
  "kernelspec": {
   "display_name": "Julia 1.0.3",
   "language": "julia",
   "name": "julia-1.0"
  },
  "language_info": {
   "file_extension": ".jl",
   "mimetype": "application/julia",
   "name": "julia",
   "version": "1.0.3"
  }
 },
 "nbformat": 4,
 "nbformat_minor": 2
}
