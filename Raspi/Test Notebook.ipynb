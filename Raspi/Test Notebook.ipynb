{
 "cells": [
  {
   "cell_type": "markdown",
   "metadata": {},
   "source": [
    "### Code for blinking of an LED"
   ]
  },
  {
   "cell_type": "code",
   "execution_count": 25,
   "metadata": {},
   "outputs": [
    {
     "name": "stderr",
     "output_type": "stream",
     "text": [
      "┌ Info: Successfully connected!\n",
      "└ @ PiGPIO /home/pi/.julia/packages/PiGPIO/e5h1O/src/pi.jl:1309\n"
     ]
    }
   ],
   "source": [
    "using PiGPIO\n",
    "\n",
    "p = Pi()\n",
    "\n",
    "pin = 18\n",
    "\n",
    "set_mode(p, pin, PiGPIO.OUTPUT)\n",
    "\n",
    "try \n",
    "    for i = 1:10\n",
    "        PiGPIO.write(p, pin, PiGPIO.HIGH)\n",
    "        sleep(2)\n",
    "        PiGPIO.write(p, pin, PiGPIO.LOW)\n",
    "        sleep(1)\n",
    "    end\n",
    "finally\n",
    "    set_mode(p, pin, PiGPIO.INPUT)\n",
    "end"
   ]
  },
  {
   "cell_type": "markdown",
   "metadata": {},
   "source": [
    "### Code for controlling a servo motor"
   ]
  },
  {
   "cell_type": "code",
   "execution_count": 2,
   "metadata": {},
   "outputs": [
    {
     "name": "stderr",
     "output_type": "stream",
     "text": [
      "┌ Info: Successfully connected!\n",
      "└ @ PiGPIO /home/pi/.julia/packages/PiGPIO/e5h1O/src/pi.jl:1309\n"
     ]
    }
   ],
   "source": [
    "using PiGPIO\n",
    "\n",
    "p = Pi()\n",
    "\n",
    "pin = 18\n",
    "\n",
    "set_mode(p, pin, PiGPIO.OUTPUT)\n",
    "\n",
    "PiGPIO.write(p, pin, 1)\n",
    "\n",
    "try\n",
    "    for i = 1:10\n",
    "        PiGPIO.set_PWM_dutycycle(p, pin, 0)\n",
    "        sleep(0.5)\n",
    "        PiGPIO.set_PWM_dutycycle(p, pin, 10)\n",
    "        sleep(0.5)\n",
    "        PiGPIO.set_PWM_dutycycle(p, pin, 20)\n",
    "        sleep(0.5)\n",
    "    end\n",
    "finally\n",
    "    set_mode(p, pin, PiGPIO.INPUT)\n",
    "end "
   ]
  },
  {
   "cell_type": "code",
   "execution_count": 6,
   "metadata": {},
   "outputs": [
    {
     "name": "stdout",
     "output_type": "stream",
     "text": [
      "064128"
     ]
    }
   ],
   "source": [
    "PiGPIO.set_PWM_dutycycle(p, 18, 0)\n",
    "print(PiGPIO.get_PWM_dutycycle(p, 18))\n",
    "\n",
    "PiGPIO.set_PWM_dutycycle(p, 18, 64)\n",
    "print(PiGPIO.get_PWM_dutycycle(p, 18))\n",
    "\n",
    "PiGPIO.set_PWM_dutycycle(p, 18, 128)\n",
    "print(PiGPIO.get_PWM_dutycycle(p, 18))"
   ]
  },
  {
   "cell_type": "code",
   "execution_count": 7,
   "metadata": {},
   "outputs": [
    {
     "name": "stdout",
     "output_type": "stream",
     "text": [
      "50"
     ]
    }
   ],
   "source": [
    "PiGPIO.set_PWM_frequency(p, 18, 50)\n",
    "print(PiGPIO.get_PWM_frequency(p, 18))"
   ]
  },
  {
   "cell_type": "code",
   "execution_count": null,
   "metadata": {},
   "outputs": [],
   "source": []
  }
 ],
 "metadata": {
  "kernelspec": {
   "display_name": "Julia 1.0.4",
   "language": "julia",
   "name": "julia-1.0"
  },
  "language_info": {
   "file_extension": ".jl",
   "mimetype": "application/julia",
   "name": "julia",
   "version": "1.0.4"
  }
 },
 "nbformat": 4,
 "nbformat_minor": 2
}
