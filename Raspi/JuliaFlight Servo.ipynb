{
 "cells": [
  {
   "cell_type": "code",
   "execution_count": 1,
   "metadata": {},
   "outputs": [
    {
     "name": "stderr",
     "output_type": "stream",
     "text": [
      "┌ Info: Successfully connected!\n",
      "└ @ PiGPIO /home/pi/.julia/packages/PiGPIO/e5h1O/src/pi.jl:1309\n"
     ]
    },
    {
     "data": {
      "text/plain": [
       "23"
      ]
     },
     "execution_count": 1,
     "metadata": {},
     "output_type": "execute_result"
    }
   ],
   "source": [
    "using PiGPIO\n",
    "\n",
    "p = Pi()\n",
    "\n",
    "pin = 23"
   ]
  },
  {
   "cell_type": "code",
   "execution_count": 2,
   "metadata": {},
   "outputs": [
    {
     "data": {
      "text/plain": [
       "0"
      ]
     },
     "execution_count": 2,
     "metadata": {},
     "output_type": "execute_result"
    }
   ],
   "source": [
    "set_mode(p, pin, PiGPIO.OUTPUT)"
   ]
  },
  {
   "cell_type": "code",
   "execution_count": 3,
   "metadata": {},
   "outputs": [
    {
     "name": "stdout",
     "output_type": "stream",
     "text": [
      "1"
     ]
    }
   ],
   "source": [
    "# Turn the pin ON\n",
    "\n",
    "PiGPIO.write(p, pin, 1)\n",
    "print(PiGPIO.read(p, pin))"
   ]
  },
  {
   "cell_type": "code",
   "execution_count": 20,
   "metadata": {},
   "outputs": [
    {
     "name": "stdout",
     "output_type": "stream",
     "text": [
      "128"
     ]
    }
   ],
   "source": [
    "# Set duty cycle to desired value\n",
    "\n",
    "PiGPIO.set_PWM_dutycycle(p, pin, 128)\n",
    "print(PiGPIO.get_PWM_dutycycle(p, 23))"
   ]
  },
  {
   "cell_type": "code",
   "execution_count": 18,
   "metadata": {},
   "outputs": [
    {
     "name": "stdout",
     "output_type": "stream",
     "text": [
      "50"
     ]
    }
   ],
   "source": [
    "# Set frequency to 50 Hz\n",
    "\n",
    "PiGPIO.set_PWM_frequency(p, 23, 50)\n",
    "print(PiGPIO.get_PWM_frequency(p, 23))"
   ]
  },
  {
   "cell_type": "code",
   "execution_count": 25,
   "metadata": {},
   "outputs": [
    {
     "data": {
      "text/plain": [
       "set_PWM_dutycycle (generic function with 1 method)"
      ]
     },
     "execution_count": 25,
     "metadata": {},
     "output_type": "execute_result"
    }
   ],
   "source": [
    "function set_PWM_dutycycle(p, pin, duty)\n",
    "    return PiGPIO._u2i(PiGPIO._pigpio_command(p.sl, PiGPIO._PI_CMD_PWM, pin, Int(duty) ))\n",
    "end"
   ]
  },
  {
   "cell_type": "code",
   "execution_count": 26,
   "metadata": {},
   "outputs": [
    {
     "name": "stdout",
     "output_type": "stream",
     "text": [
      "064128"
     ]
    }
   ],
   "source": [
    "set_PWM_dutycycle(p, 23, 0)\n",
    "print(PiGPIO.get_PWM_dutycycle(p, 23))\n",
    "\n",
    "set_PWM_dutycycle(p, 23, 64)\n",
    "print(PiGPIO.get_PWM_dutycycle(p, 23))\n",
    "\n",
    "set_PWM_dutycycle(p, 23, 128)\n",
    "print(PiGPIO.get_PWM_dutycycle(p, 23))"
   ]
  },
  {
   "cell_type": "code",
   "execution_count": 23,
   "metadata": {},
   "outputs": [],
   "source": [
    "try\n",
    "    for i = 1:10\n",
    "        PiGPIO.set_PWM_dutycycle(p, pin, 0)\n",
    "        sleep(0.5)\n",
    "        PiGPIO.set_PWM_dutycycle(p, pin, 128)\n",
    "        sleep(0.5)\n",
    "        PiGPIO.set_PWM_dutycycle(p, pin, 255)\n",
    "        sleep(0.5)\n",
    "    end\n",
    "finally\n",
    "    set_mode(p, pin, PiGPIO.INPUT)\n",
    "end     "
   ]
  },
  {
   "cell_type": "code",
   "execution_count": 10,
   "metadata": {},
   "outputs": [
    {
     "ename": "UndefVarError",
     "evalue": "UndefVarError: int not defined",
     "output_type": "error",
     "traceback": [
      "UndefVarError: int not defined",
      "",
      "Stacktrace:",
      " [1] set_servo_pulsewidth(::Pi, ::Int32, ::Int32) at /home/pi/.julia/packages/PiGPIO/e5h1O/src/pi.jl:674",
      " [2] top-level scope at In[10]:1"
     ]
    }
   ],
   "source": [
    "PiGPIO.set_servo_pulsewidth(p, 23, 50)"
   ]
  }
 ],
 "metadata": {
  "kernelspec": {
   "display_name": "Julia 1.0.4",
   "language": "julia",
   "name": "julia-1.0"
  },
  "language_info": {
   "file_extension": ".jl",
   "mimetype": "application/julia",
   "name": "julia",
   "version": "1.0.4"
  }
 },
 "nbformat": 4,
 "nbformat_minor": 2
}
